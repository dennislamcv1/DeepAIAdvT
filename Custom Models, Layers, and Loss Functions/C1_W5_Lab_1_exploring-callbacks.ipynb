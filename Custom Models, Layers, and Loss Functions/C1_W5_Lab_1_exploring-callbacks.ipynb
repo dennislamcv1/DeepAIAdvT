{
 "cells": [
  {
   "cell_type": "markdown",
   "metadata": {
    "colab_type": "text",
    "id": "view-in-github"
   },
   "source": [
    "<a href=\"https://colab.research.google.com/github/https-deeplearning-ai/tensorflow-3-public/blob/main/Course%201%20-%20Custom%20Models%2C%20Layers%20and%20Loss%20Functions/Week%205%20-%20Callbacks/C1_W5_Lab_1_exploring-callbacks.ipynb\" target=\"_parent\"><img src=\"https://colab.research.google.com/assets/colab-badge.svg\" alt=\"Open In Colab\"/></a>"
   ]
  },
  {
   "cell_type": "markdown",
   "metadata": {
    "colab_type": "text",
    "id": "0c_TYhQOUe1j"
   },
   "source": [
    "# Ungraded Lab: Introduction to Keras callbacks\n",
    "\n",
    "In Keras, `Callback` is a Python class meant to be subclassed to provide specific functionality, with a set of methods called at various stages of training (including batch/epoch start and ends), testing, and predicting. Callbacks are useful to get a view on internal states and statistics of the model during training. The methods of the callbacks can  be called at different stages of training/evaluating/inference. Keras has available [callbacks](https://keras.io/api/callbacks/) and we'll show how you can use it in the following sections. Please click the **Open in Colab** badge above to complete this exercise in Colab. This will allow you to take advantage of the free GPU runtime (for faster training) and compatibility with all the packages needed in this notebook."
   ]
  },
  {
   "cell_type": "markdown",
   "metadata": {
    "colab_type": "text",
    "id": "Uyl69EyRQx-f"
   },
   "source": [
    "## Model methods that take callbacks\n",
    "Users can supply a list of callbacks to the following `tf.keras.Model` methods:\n",
    "* [`fit()`](https://www.tensorflow.org/versions/r2.0/api_docs/python/tf/keras/Model#fit), [`fit_generator()`](https://www.tensorflow.org/versions/r2.0/api_docs/python/tf/keras/Model#fit_generator)\n",
    "Trains the model for a fixed number of epochs (iterations over a dataset, or data yielded batch-by-batch by a Python generator).\n",
    "* [`evaluate()`](https://www.tensorflow.org/versions/r2.0/api_docs/python/tf/keras/Model#evaluate), [`evaluate_generator()`](https://www.tensorflow.org/versions/r2.0/api_docs/python/tf/keras/Model#evaluate_generator)\n",
    "Evaluates the model for given data or data generator. Outputs the loss and metric values from the evaluation.\n",
    "* [`predict()`](https://www.tensorflow.org/versions/r2.0/api_docs/python/tf/keras/Model#predict), [`predict_generator()`](https://www.tensorflow.org/versions/r2.0/api_docs/python/tf/keras/Model#predict_generator)\n",
    "Generates output predictions for the input data or data generator."
   ]
  },
  {
   "cell_type": "markdown",
   "metadata": {},
   "source": [
    "## Imports"
   ]
  },
  {
   "cell_type": "code",
   "execution_count": 1,
   "metadata": {
    "colab": {},
    "colab_type": "code",
    "id": "AlT1Kh3uA9lZ"
   },
   "outputs": [
    {
     "name": "stdout",
     "output_type": "stream",
     "text": [
      "Version:  2.1.0\n"
     ]
    }
   ],
   "source": [
    "from __future__ import absolute_import, division, print_function, unicode_literals\n",
    "\n",
    "try:\n",
    "    # %tensorflow_version only exists in Colab.\n",
    "    %tensorflow_version 2.x\n",
    "except Exception:\n",
    "    pass\n",
    "\n",
    "import tensorflow as tf\n",
    "import tensorflow_datasets as tfds\n",
    "import matplotlib.pyplot as plt\n",
    "import io\n",
    "from PIL import Image\n",
    "\n",
    "from tensorflow.keras.callbacks import TensorBoard, EarlyStopping, LearningRateScheduler, ModelCheckpoint, CSVLogger, ReduceLROnPlateau\n",
    "%load_ext tensorboard\n",
    "\n",
    "import os\n",
    "import matplotlib.pylab as plt\n",
    "import numpy as np\n",
    "import math\n",
    "import datetime\n",
    "import pandas as pd\n",
    "\n",
    "print(\"Version: \", tf.__version__)\n",
    "tf.get_logger().setLevel('INFO')"
   ]
  },
  {
   "cell_type": "markdown",
   "metadata": {
    "colab_type": "text",
    "id": "HnSljqtsXKfb"
   },
   "source": [
    "# Examples of Keras callback applications\n",
    "The following section will guide you through creating simple [Callback](https://keras.io/api/callbacks/) applications."
   ]
  },
  {
   "cell_type": "code",
   "execution_count": 2,
   "metadata": {
    "colab": {},
    "colab_type": "code",
    "id": "spskRuxvCYQE"
   },
   "outputs": [],
   "source": [
    "# Download and prepare the horses or humans dataset\n",
    "\n",
    "# horses_or_humans 3.0.0 has already been downloaded for you\n",
    "path = \"./tensorflow_datasets\"\n",
    "splits, info = tfds.load('horses_or_humans', data_dir=path, as_supervised=True, with_info=True, split=['train[:80%]', 'train[80%:]', 'test'])\n",
    "\n",
    "(train_examples, validation_examples, test_examples) = splits\n",
    "\n",
    "num_examples = info.splits['train'].num_examples\n",
    "num_classes = info.features['label'].num_classes"
   ]
  },
  {
   "cell_type": "code",
   "execution_count": 3,
   "metadata": {
    "colab": {},
    "colab_type": "code",
    "id": "veIsubKTCZsN"
   },
   "outputs": [],
   "source": [
    "SIZE = 150 #@param {type:\"slider\", min:64, max:300, step:1}\n",
    "IMAGE_SIZE = (SIZE, SIZE)"
   ]
  },
  {
   "cell_type": "code",
   "execution_count": 4,
   "metadata": {
    "colab": {},
    "colab_type": "code",
    "id": "faajLlErCb1S"
   },
   "outputs": [],
   "source": [
    "def format_image(image, label):\n",
    "  image = tf.image.resize(image, IMAGE_SIZE) / 255.0\n",
    "  return  image, label"
   ]
  },
  {
   "cell_type": "code",
   "execution_count": 5,
   "metadata": {
    "colab": {},
    "colab_type": "code",
    "id": "AVXPuU12Cdka"
   },
   "outputs": [],
   "source": [
    "BATCH_SIZE = 32 #@param {type:\"integer\"}"
   ]
  },
  {
   "cell_type": "code",
   "execution_count": 6,
   "metadata": {
    "colab": {},
    "colab_type": "code",
    "id": "0lHDkFVaCe48"
   },
   "outputs": [],
   "source": [
    "train_batches = train_examples.shuffle(num_examples // 4).map(format_image).batch(BATCH_SIZE).prefetch(1)\n",
    "validation_batches = validation_examples.map(format_image).batch(BATCH_SIZE).prefetch(1)\n",
    "test_batches = test_examples.map(format_image).batch(1)"
   ]
  },
  {
   "cell_type": "code",
   "execution_count": 7,
   "metadata": {
    "colab": {},
    "colab_type": "code",
    "id": "DxsCqEIkCgUt"
   },
   "outputs": [
    {
     "data": {
      "text/plain": [
       "TensorShape([32, 150, 150, 3])"
      ]
     },
     "execution_count": 7,
     "metadata": {},
     "output_type": "execute_result"
    }
   ],
   "source": [
    "for image_batch, label_batch in train_batches.take(1):\n",
    "  pass\n",
    "\n",
    "image_batch.shape"
   ]
  },
  {
   "cell_type": "code",
   "execution_count": 8,
   "metadata": {
    "colab": {},
    "colab_type": "code",
    "id": "iDBpWvHXCh2A"
   },
   "outputs": [],
   "source": [
    "def build_model(dense_units, input_shape=IMAGE_SIZE + (3,)):\n",
    "  model = tf.keras.models.Sequential([\n",
    "      tf.keras.layers.Conv2D(16, (3, 3), activation='relu', input_shape=input_shape),\n",
    "      tf.keras.layers.MaxPooling2D(2, 2),\n",
    "      tf.keras.layers.Conv2D(32, (3, 3), activation='relu'),\n",
    "      tf.keras.layers.MaxPooling2D(2, 2),\n",
    "      tf.keras.layers.Conv2D(64, (3, 3), activation='relu'),\n",
    "      tf.keras.layers.MaxPooling2D(2, 2),\n",
    "      tf.keras.layers.Flatten(),\n",
    "      tf.keras.layers.Dense(dense_units, activation='relu'),\n",
    "      tf.keras.layers.Dense(2, activation='softmax')\n",
    "  ])\n",
    "  return model"
   ]
  },
  {
   "cell_type": "markdown",
   "metadata": {
    "colab_type": "text",
    "id": "0ZKGkjagENSw"
   },
   "source": [
    "## [TensorBoard](https://keras.io/api/callbacks/tensorboard/)\n",
    "\n",
    "Enable visualizations for TensorBoard."
   ]
  },
  {
   "cell_type": "code",
   "execution_count": 9,
   "metadata": {
    "colab": {},
    "colab_type": "code",
    "id": "CeiD2WVEHbex"
   },
   "outputs": [],
   "source": [
    "!rm -rf logs"
   ]
  },
  {
   "cell_type": "code",
   "execution_count": 10,
   "metadata": {
    "colab": {},
    "colab_type": "code",
    "id": "PpLwPLnAEOzv"
   },
   "outputs": [
    {
     "name": "stdout",
     "output_type": "stream",
     "text": [
      "Epoch 1/10\n",
      "26/26 [==============================] - 21s 809ms/step - loss: 0.6748 - accuracy: 0.5803 - val_loss: 0.6635 - val_accuracy: 0.5610\n",
      "Epoch 2/10\n",
      "26/26 [==============================] - 20s 773ms/step - loss: 0.6399 - accuracy: 0.6436 - val_loss: 0.6299 - val_accuracy: 0.5902\n",
      "Epoch 3/10\n",
      "26/26 [==============================] - 20s 762ms/step - loss: 0.6119 - accuracy: 0.7032 - val_loss: 0.5661 - val_accuracy: 0.8341\n",
      "Epoch 4/10\n",
      "26/26 [==============================] - 20s 788ms/step - loss: 0.5641 - accuracy: 0.7506 - val_loss: 0.6400 - val_accuracy: 0.5659\n",
      "Epoch 5/10\n",
      "26/26 [==============================] - 20s 770ms/step - loss: 0.5298 - accuracy: 0.7567 - val_loss: 0.4491 - val_accuracy: 0.8244\n",
      "Epoch 6/10\n",
      "26/26 [==============================] - 20s 769ms/step - loss: 0.4540 - accuracy: 0.8163 - val_loss: 0.4016 - val_accuracy: 0.8585\n",
      "Epoch 7/10\n",
      "26/26 [==============================] - 20s 769ms/step - loss: 0.3907 - accuracy: 0.8394 - val_loss: 0.7874 - val_accuracy: 0.5659\n",
      "Epoch 8/10\n",
      "26/26 [==============================] - 20s 766ms/step - loss: 0.3411 - accuracy: 0.8796 - val_loss: 0.5500 - val_accuracy: 0.7220\n",
      "Epoch 9/10\n",
      "26/26 [==============================] - 20s 773ms/step - loss: 0.3142 - accuracy: 0.8783 - val_loss: 0.2721 - val_accuracy: 0.8780\n",
      "Epoch 10/10\n",
      "26/26 [==============================] - 20s 769ms/step - loss: 0.2441 - accuracy: 0.9124 - val_loss: 0.1984 - val_accuracy: 0.9268\n"
     ]
    },
    {
     "data": {
      "text/plain": [
       "<tensorflow.python.keras.callbacks.History at 0x7fb348ebff10>"
      ]
     },
     "execution_count": 10,
     "metadata": {},
     "output_type": "execute_result"
    }
   ],
   "source": [
    "model = build_model(dense_units=256)\n",
    "model.compile(\n",
    "    optimizer='sgd',\n",
    "    loss='sparse_categorical_crossentropy', \n",
    "    metrics=['accuracy'])\n",
    "  \n",
    "logdir = os.path.join(\"logs\", datetime.datetime.now().strftime(\"%Y%m%d-%H%M%S\"))\n",
    "tensorboard_callback = tf.keras.callbacks.TensorBoard(logdir)\n",
    "\n",
    "model.fit(train_batches, \n",
    "          epochs=10, \n",
    "          validation_data=validation_batches, \n",
    "          callbacks=[tensorboard_callback])"
   ]
  },
  {
   "cell_type": "code",
   "execution_count": 11,
   "metadata": {
    "colab": {},
    "colab_type": "code",
    "id": "iJunWOjZE0ir"
   },
   "outputs": [
    {
     "data": {
      "text/html": [
       "\n",
       "      <iframe id=\"tensorboard-frame-ad5582fbbd60595\" width=\"100%\" height=\"800\" frameborder=\"0\">\n",
       "      </iframe>\n",
       "      <script>\n",
       "        (function() {\n",
       "          const frame = document.getElementById(\"tensorboard-frame-ad5582fbbd60595\");\n",
       "          const url = new URL(\"/\", window.location);\n",
       "          url.port = 6006;\n",
       "          frame.src = url;\n",
       "        })();\n",
       "      </script>\n",
       "  "
      ],
      "text/plain": [
       "<IPython.core.display.HTML object>"
      ]
     },
     "metadata": {},
     "output_type": "display_data"
    }
   ],
   "source": [
    "%tensorboard --logdir logs"
   ]
  },
  {
   "cell_type": "markdown",
   "metadata": {
    "colab_type": "text",
    "id": "wv9H4Pc2Mfl7"
   },
   "source": [
    "## [Model Checkpoint](https://keras.io/api/callbacks/model_checkpoint/)\n",
    "\n",
    "Callback to save the Keras model or model weights at some frequency."
   ]
  },
  {
   "cell_type": "code",
   "execution_count": 12,
   "metadata": {
    "colab": {},
    "colab_type": "code",
    "id": "PYV4FJ8iMmDq"
   },
   "outputs": [
    {
     "name": "stdout",
     "output_type": "stream",
     "text": [
      "Epoch 1/5\n",
      "\n",
      "Epoch 00001: saving model to weights.01-0.69.h5\n",
      "26/26 - 21s - loss: 0.6839 - accuracy: 0.5523 - val_loss: 0.6861 - val_accuracy: 0.4634\n",
      "Epoch 2/5\n",
      "\n",
      "Epoch 00002: saving model to weights.02-0.72.h5\n",
      "26/26 - 22s - loss: 0.6279 - accuracy: 0.6606 - val_loss: 0.7213 - val_accuracy: 0.4732\n",
      "Epoch 3/5\n",
      "\n",
      "Epoch 00003: saving model to weights.03-0.54.h5\n",
      "26/26 - 21s - loss: 0.5756 - accuracy: 0.7092 - val_loss: 0.5400 - val_accuracy: 0.8146\n",
      "Epoch 4/5\n",
      "\n",
      "Epoch 00004: saving model to weights.04-0.48.h5\n",
      "26/26 - 20s - loss: 0.5375 - accuracy: 0.7518 - val_loss: 0.4779 - val_accuracy: 0.8780\n",
      "Epoch 5/5\n",
      "\n",
      "Epoch 00005: saving model to weights.05-0.41.h5\n",
      "26/26 - 20s - loss: 0.4841 - accuracy: 0.7883 - val_loss: 0.4102 - val_accuracy: 0.9317\n"
     ]
    },
    {
     "data": {
      "text/plain": [
       "<tensorflow.python.keras.callbacks.History at 0x7fb33ff91a90>"
      ]
     },
     "execution_count": 12,
     "metadata": {},
     "output_type": "execute_result"
    }
   ],
   "source": [
    "model = build_model(dense_units=256)\n",
    "model.compile(\n",
    "    optimizer='sgd',\n",
    "    loss='sparse_categorical_crossentropy', \n",
    "    metrics=['accuracy'])\n",
    "  \n",
    "model.fit(train_batches, \n",
    "          epochs=5, \n",
    "          validation_data=validation_batches, \n",
    "          verbose=2,\n",
    "          callbacks=[ModelCheckpoint('weights.{epoch:02d}-{val_loss:.2f}.h5', verbose=1),\n",
    "          ])"
   ]
  },
  {
   "cell_type": "code",
   "execution_count": 13,
   "metadata": {
    "colab": {},
    "colab_type": "code",
    "id": "oGvjQ8IlMmK6"
   },
   "outputs": [
    {
     "name": "stdout",
     "output_type": "stream",
     "text": [
      "\n",
      "Epoch 00001: saving model to saved_model\n",
      "WARNING:tensorflow:From /opt/conda/lib/python3.7/site-packages/tensorflow_core/python/ops/resource_variable_ops.py:1786: calling BaseResourceVariable.__init__ (from tensorflow.python.ops.resource_variable_ops) with constraint is deprecated and will be removed in a future version.\n",
      "Instructions for updating:\n",
      "If using Keras pass *_constraint arguments to layers.\n"
     ]
    },
    {
     "name": "stderr",
     "output_type": "stream",
     "text": [
      "WARNING:tensorflow:From /opt/conda/lib/python3.7/site-packages/tensorflow_core/python/ops/resource_variable_ops.py:1786: calling BaseResourceVariable.__init__ (from tensorflow.python.ops.resource_variable_ops) with constraint is deprecated and will be removed in a future version.\n",
      "Instructions for updating:\n",
      "If using Keras pass *_constraint arguments to layers.\n"
     ]
    },
    {
     "name": "stdout",
     "output_type": "stream",
     "text": [
      "INFO:tensorflow:Assets written to: saved_model/assets\n"
     ]
    },
    {
     "name": "stderr",
     "output_type": "stream",
     "text": [
      "INFO:tensorflow:Assets written to: saved_model/assets\n"
     ]
    },
    {
     "name": "stdout",
     "output_type": "stream",
     "text": [
      "26/26 - 21s - loss: 0.6815 - accuracy: 0.5560 - val_loss: 0.6907 - val_accuracy: 0.4537\n"
     ]
    },
    {
     "data": {
      "text/plain": [
       "<tensorflow.python.keras.callbacks.History at 0x7fb33fe07ad0>"
      ]
     },
     "execution_count": 13,
     "metadata": {},
     "output_type": "execute_result"
    }
   ],
   "source": [
    "model = build_model(dense_units=256)\n",
    "model.compile(\n",
    "    optimizer='sgd',\n",
    "    loss='sparse_categorical_crossentropy', \n",
    "    metrics=['accuracy'])\n",
    "  \n",
    "model.fit(train_batches, \n",
    "          epochs=1, \n",
    "          validation_data=validation_batches, \n",
    "          verbose=2,\n",
    "          callbacks=[ModelCheckpoint('saved_model', verbose=1)\n",
    "          ])"
   ]
  },
  {
   "cell_type": "code",
   "execution_count": 14,
   "metadata": {
    "colab": {},
    "colab_type": "code",
    "id": "Y1ConwoB0EjD"
   },
   "outputs": [
    {
     "name": "stdout",
     "output_type": "stream",
     "text": [
      "Epoch 1/2\n",
      "\n",
      "Epoch 00001: saving model to model.h5\n",
      "26/26 - 21s - loss: 0.6768 - accuracy: 0.5803 - val_loss: 0.6559 - val_accuracy: 0.7024\n",
      "Epoch 2/2\n",
      "\n",
      "Epoch 00002: saving model to model.h5\n",
      "26/26 - 20s - loss: 0.6265 - accuracy: 0.7007 - val_loss: 0.6017 - val_accuracy: 0.7171\n"
     ]
    },
    {
     "data": {
      "text/plain": [
       "<tensorflow.python.keras.callbacks.History at 0x7fb33fc4c810>"
      ]
     },
     "execution_count": 14,
     "metadata": {},
     "output_type": "execute_result"
    }
   ],
   "source": [
    "model = build_model(dense_units=256)\n",
    "model.compile(\n",
    "    optimizer='sgd',\n",
    "    loss='sparse_categorical_crossentropy', \n",
    "    metrics=['accuracy'])\n",
    "  \n",
    "model.fit(train_batches, \n",
    "          epochs=2, \n",
    "          validation_data=validation_batches, \n",
    "          verbose=2,\n",
    "          callbacks=[ModelCheckpoint('model.h5', verbose=1)\n",
    "          ])"
   ]
  },
  {
   "cell_type": "markdown",
   "metadata": {
    "colab_type": "text",
    "id": "kptNF0--Lznv"
   },
   "source": [
    "## [Early stopping](https://keras.io/api/callbacks/early_stopping/)\n",
    "\n",
    "Stop training when a monitored metric has stopped improving."
   ]
  },
  {
   "cell_type": "code",
   "execution_count": 15,
   "metadata": {
    "colab": {},
    "colab_type": "code",
    "id": "KJOJTJYdCkdY"
   },
   "outputs": [
    {
     "name": "stdout",
     "output_type": "stream",
     "text": [
      "Epoch 1/50\n",
      "26/26 - 21s - loss: 0.6598 - accuracy: 0.6083 - val_loss: 0.8736 - val_accuracy: 0.4341\n",
      "Epoch 2/50\n",
      "26/26 - 21s - loss: 0.6137 - accuracy: 0.6946 - val_loss: 0.5701 - val_accuracy: 0.6927\n",
      "Epoch 3/50\n",
      "26/26 - 20s - loss: 0.5598 - accuracy: 0.7263 - val_loss: 0.5696 - val_accuracy: 0.6878\n",
      "Epoch 4/50\n",
      "26/26 - 20s - loss: 0.4852 - accuracy: 0.7956 - val_loss: 0.5550 - val_accuracy: 0.6976\n",
      "Epoch 5/50\n",
      "26/26 - 20s - loss: 0.4590 - accuracy: 0.7993 - val_loss: 0.4439 - val_accuracy: 0.8293\n",
      "Epoch 6/50\n",
      "26/26 - 20s - loss: 0.3678 - accuracy: 0.8577 - val_loss: 0.4558 - val_accuracy: 0.7951\n",
      "Epoch 7/50\n",
      "26/26 - 20s - loss: 0.3457 - accuracy: 0.8637 - val_loss: 0.3865 - val_accuracy: 0.8390\n",
      "Epoch 8/50\n",
      "26/26 - 20s - loss: 0.3263 - accuracy: 0.8747 - val_loss: 0.2810 - val_accuracy: 0.9024\n",
      "Epoch 9/50\n",
      "26/26 - 20s - loss: 0.2479 - accuracy: 0.9209 - val_loss: 0.2045 - val_accuracy: 0.9317\n",
      "Epoch 10/50\n",
      "26/26 - 20s - loss: 0.2387 - accuracy: 0.9209 - val_loss: 0.1829 - val_accuracy: 0.9463\n",
      "Epoch 11/50\n",
      "26/26 - 20s - loss: 0.1565 - accuracy: 0.9684 - val_loss: 0.1388 - val_accuracy: 0.9561\n",
      "Epoch 12/50\n",
      "26/26 - 20s - loss: 0.1383 - accuracy: 0.9696 - val_loss: 0.1094 - val_accuracy: 0.9659\n",
      "Epoch 13/50\n",
      "26/26 - 20s - loss: 0.1109 - accuracy: 0.9757 - val_loss: 0.1097 - val_accuracy: 0.9756\n",
      "Epoch 14/50\n",
      "Restoring model weights from the end of the best epoch.\n",
      "26/26 - 20s - loss: 0.0862 - accuracy: 0.9842 - val_loss: 0.1362 - val_accuracy: 0.9366\n",
      "Epoch 00014: early stopping\n"
     ]
    },
    {
     "data": {
      "text/plain": [
       "<tensorflow.python.keras.callbacks.History at 0x7fb33fa73f50>"
      ]
     },
     "execution_count": 15,
     "metadata": {},
     "output_type": "execute_result"
    }
   ],
   "source": [
    "model = build_model(dense_units=256)\n",
    "model.compile(\n",
    "    optimizer='sgd',\n",
    "    loss='sparse_categorical_crossentropy', \n",
    "    metrics=['accuracy'])\n",
    "  \n",
    "model.fit(train_batches, \n",
    "          epochs=50, \n",
    "          validation_data=validation_batches, \n",
    "          verbose=2,\n",
    "          callbacks=[EarlyStopping(\n",
    "              patience=3,\n",
    "              min_delta=0.05,\n",
    "              baseline=0.8,\n",
    "              mode='min',\n",
    "              monitor='val_loss',\n",
    "              restore_best_weights=True,\n",
    "              verbose=1)\n",
    "          ])"
   ]
  },
  {
   "cell_type": "markdown",
   "metadata": {
    "colab_type": "text",
    "id": "8mDzWUD4Pqq5"
   },
   "source": [
    "## [CSV Logger](https://keras.io/api/callbacks/csv_logger/)\n",
    "\n",
    "Callback that streams epoch results to a CSV file."
   ]
  },
  {
   "cell_type": "code",
   "execution_count": 16,
   "metadata": {
    "colab": {},
    "colab_type": "code",
    "id": "cffnMpmGPtMh"
   },
   "outputs": [
    {
     "name": "stdout",
     "output_type": "stream",
     "text": [
      "Epoch 1/5\n",
      "26/26 [==============================] - 21s 804ms/step - loss: 0.6428 - accuracy: 0.6655 - val_loss: 0.6544 - val_accuracy: 0.5171\n",
      "Epoch 2/5\n",
      "26/26 [==============================] - 21s 791ms/step - loss: 0.5887 - accuracy: 0.6910 - val_loss: 0.5486 - val_accuracy: 0.7659\n",
      "Epoch 3/5\n",
      "26/26 [==============================] - 21s 796ms/step - loss: 0.4965 - accuracy: 0.7676 - val_loss: 0.5241 - val_accuracy: 0.7854\n",
      "Epoch 4/5\n",
      "26/26 [==============================] - 21s 809ms/step - loss: 0.4367 - accuracy: 0.8054 - val_loss: 0.4040 - val_accuracy: 0.7951\n",
      "Epoch 5/5\n",
      "26/26 [==============================] - 20s 776ms/step - loss: 0.4175 - accuracy: 0.7981 - val_loss: 0.4280 - val_accuracy: 0.8341\n"
     ]
    },
    {
     "data": {
      "text/plain": [
       "<tensorflow.python.keras.callbacks.History at 0x7fb33f9bdb50>"
      ]
     },
     "execution_count": 16,
     "metadata": {},
     "output_type": "execute_result"
    }
   ],
   "source": [
    "model = build_model(dense_units=256)\n",
    "model.compile(\n",
    "    optimizer='sgd',\n",
    "    loss='sparse_categorical_crossentropy', \n",
    "    metrics=['accuracy'])\n",
    "  \n",
    "csv_file = 'training.csv'\n",
    "\n",
    "model.fit(train_batches, \n",
    "          epochs=5, \n",
    "          validation_data=validation_batches, \n",
    "          callbacks=[CSVLogger(csv_file)\n",
    "          ])"
   ]
  },
  {
   "cell_type": "code",
   "execution_count": 17,
   "metadata": {
    "colab": {},
    "colab_type": "code",
    "id": "B9tkYi03QV7R"
   },
   "outputs": [
    {
     "data": {
      "text/html": [
       "<div>\n",
       "<style scoped>\n",
       "    .dataframe tbody tr th:only-of-type {\n",
       "        vertical-align: middle;\n",
       "    }\n",
       "\n",
       "    .dataframe tbody tr th {\n",
       "        vertical-align: top;\n",
       "    }\n",
       "\n",
       "    .dataframe thead th {\n",
       "        text-align: right;\n",
       "    }\n",
       "</style>\n",
       "<table border=\"1\" class=\"dataframe\">\n",
       "  <thead>\n",
       "    <tr style=\"text-align: right;\">\n",
       "      <th></th>\n",
       "      <th>epoch</th>\n",
       "      <th>accuracy</th>\n",
       "      <th>loss</th>\n",
       "      <th>val_accuracy</th>\n",
       "      <th>val_loss</th>\n",
       "    </tr>\n",
       "  </thead>\n",
       "  <tbody>\n",
       "    <tr>\n",
       "      <th>0</th>\n",
       "      <td>0</td>\n",
       "      <td>0.665450</td>\n",
       "      <td>0.643243</td>\n",
       "      <td>0.517073</td>\n",
       "      <td>0.654377</td>\n",
       "    </tr>\n",
       "    <tr>\n",
       "      <th>1</th>\n",
       "      <td>1</td>\n",
       "      <td>0.690998</td>\n",
       "      <td>0.586933</td>\n",
       "      <td>0.765854</td>\n",
       "      <td>0.548588</td>\n",
       "    </tr>\n",
       "    <tr>\n",
       "      <th>2</th>\n",
       "      <td>2</td>\n",
       "      <td>0.767640</td>\n",
       "      <td>0.496364</td>\n",
       "      <td>0.785366</td>\n",
       "      <td>0.524083</td>\n",
       "    </tr>\n",
       "    <tr>\n",
       "      <th>3</th>\n",
       "      <td>3</td>\n",
       "      <td>0.805353</td>\n",
       "      <td>0.435346</td>\n",
       "      <td>0.795122</td>\n",
       "      <td>0.404020</td>\n",
       "    </tr>\n",
       "    <tr>\n",
       "      <th>4</th>\n",
       "      <td>4</td>\n",
       "      <td>0.798053</td>\n",
       "      <td>0.416832</td>\n",
       "      <td>0.834146</td>\n",
       "      <td>0.428003</td>\n",
       "    </tr>\n",
       "  </tbody>\n",
       "</table>\n",
       "</div>"
      ],
      "text/plain": [
       "   epoch  accuracy      loss  val_accuracy  val_loss\n",
       "0      0  0.665450  0.643243      0.517073  0.654377\n",
       "1      1  0.690998  0.586933      0.765854  0.548588\n",
       "2      2  0.767640  0.496364      0.785366  0.524083\n",
       "3      3  0.805353  0.435346      0.795122  0.404020\n",
       "4      4  0.798053  0.416832      0.834146  0.428003"
      ]
     },
     "execution_count": 17,
     "metadata": {},
     "output_type": "execute_result"
    }
   ],
   "source": [
    "pd.read_csv(csv_file).head()"
   ]
  },
  {
   "cell_type": "markdown",
   "metadata": {
    "colab_type": "text",
    "id": "Dt9C2Y9fRBKN"
   },
   "source": [
    "## [Learning Rate Scheduler](https://keras.io/api/callbacks/learning_rate_scheduler/)\n",
    "\n",
    "Updates the learning rate during training."
   ]
  },
  {
   "cell_type": "code",
   "execution_count": 18,
   "metadata": {
    "colab": {},
    "colab_type": "code",
    "id": "aJi-xY2VRC03"
   },
   "outputs": [
    {
     "name": "stdout",
     "output_type": "stream",
     "text": [
      "\n",
      "Epoch 00001: LearningRateScheduler reducing learning rate to 0.005.\n",
      "Epoch 1/5\n",
      "26/26 [==============================] - 31s 1s/step - loss: 0.6696 - accuracy: 0.5815 - val_loss: 0.6794 - val_accuracy: 0.4585\n",
      "\n",
      "Epoch 00002: LearningRateScheduler reducing learning rate to 0.0025.\n",
      "Epoch 2/5\n",
      "26/26 [==============================] - 20s 776ms/step - loss: 0.6506 - accuracy: 0.6265 - val_loss: 0.6658 - val_accuracy: 0.5073\n",
      "\n",
      "Epoch 00003: LearningRateScheduler reducing learning rate to 0.00125.\n",
      "Epoch 3/5\n",
      "26/26 [==============================] - 20s 773ms/step - loss: 0.6394 - accuracy: 0.6521 - val_loss: 0.6532 - val_accuracy: 0.6390\n",
      "\n",
      "Epoch 00004: LearningRateScheduler reducing learning rate to 0.000625.\n",
      "Epoch 4/5\n",
      "26/26 [==============================] - 20s 777ms/step - loss: 0.6330 - accuracy: 0.7080 - val_loss: 0.6502 - val_accuracy: 0.6488\n",
      "\n",
      "Epoch 00005: LearningRateScheduler reducing learning rate to 0.0003125.\n",
      "Epoch 5/5\n",
      "26/26 [==============================] - 20s 785ms/step - loss: 0.6302 - accuracy: 0.7202 - val_loss: 0.6484 - val_accuracy: 0.6537\n"
     ]
    },
    {
     "data": {
      "text/plain": [
       "<tensorflow.python.keras.callbacks.History at 0x7fb33d7e8690>"
      ]
     },
     "execution_count": 18,
     "metadata": {},
     "output_type": "execute_result"
    }
   ],
   "source": [
    "model = build_model(dense_units=256)\n",
    "model.compile(\n",
    "    optimizer='sgd',\n",
    "    loss='sparse_categorical_crossentropy', \n",
    "    metrics=['accuracy'])\n",
    "  \n",
    "def step_decay(epoch):\n",
    "\tinitial_lr = 0.01\n",
    "\tdrop = 0.5\n",
    "\tepochs_drop = 1\n",
    "\tlr = initial_lr * math.pow(drop, math.floor((1+epoch)/epochs_drop))\n",
    "\treturn lr\n",
    "\n",
    "model.fit(train_batches, \n",
    "          epochs=5, \n",
    "          validation_data=validation_batches, \n",
    "          callbacks=[LearningRateScheduler(step_decay, verbose=1),\n",
    "                    TensorBoard(log_dir='./log_dir')])"
   ]
  },
  {
   "cell_type": "code",
   "execution_count": 19,
   "metadata": {
    "colab": {},
    "colab_type": "code",
    "id": "M2S4n8nrbV91"
   },
   "outputs": [
    {
     "data": {
      "text/html": [
       "\n",
       "      <iframe id=\"tensorboard-frame-2765fe7799eb74c7\" width=\"100%\" height=\"800\" frameborder=\"0\">\n",
       "      </iframe>\n",
       "      <script>\n",
       "        (function() {\n",
       "          const frame = document.getElementById(\"tensorboard-frame-2765fe7799eb74c7\");\n",
       "          const url = new URL(\"/\", window.location);\n",
       "          url.port = 6007;\n",
       "          frame.src = url;\n",
       "        })();\n",
       "      </script>\n",
       "  "
      ],
      "text/plain": [
       "<IPython.core.display.HTML object>"
      ]
     },
     "metadata": {},
     "output_type": "display_data"
    }
   ],
   "source": [
    "%tensorboard --logdir log_dir"
   ]
  },
  {
   "cell_type": "markdown",
   "metadata": {
    "colab_type": "text",
    "id": "y0wcuQyJE_UK"
   },
   "source": [
    "## [ReduceLROnPlateau](https://keras.io/api/callbacks/reduce_lr_on_plateau/)\n",
    "\n",
    "Reduce learning rate when a metric has stopped improving."
   ]
  },
  {
   "cell_type": "code",
   "execution_count": 20,
   "metadata": {
    "colab": {},
    "colab_type": "code",
    "id": "4naxZ-eCFB27"
   },
   "outputs": [
    {
     "name": "stdout",
     "output_type": "stream",
     "text": [
      "Epoch 1/50\n",
      "26/26 [==============================] - 22s 855ms/step - loss: 0.6788 - accuracy: 0.5280 - val_loss: 0.6886 - val_accuracy: 0.4341\n",
      "Epoch 2/50\n",
      "26/26 [==============================] - 21s 797ms/step - loss: 0.6582 - accuracy: 0.6192 - val_loss: 0.6484 - val_accuracy: 0.6537\n",
      "Epoch 3/50\n",
      "25/26 [===========================>..] - ETA: 0s - loss: 0.6289 - accuracy: 0.7138\n",
      "Epoch 00003: ReduceLROnPlateau reducing learning rate to 0.0019999999552965165.\n",
      "26/26 [==============================] - 20s 779ms/step - loss: 0.6240 - accuracy: 0.7153 - val_loss: 0.7055 - val_accuracy: 0.4439\n",
      "Epoch 4/50\n",
      "26/26 [==============================] - 21s 789ms/step - loss: 0.5963 - accuracy: 0.6813 - val_loss: 0.5930 - val_accuracy: 0.8146\n",
      "Epoch 5/50\n",
      "26/26 [==============================] - 21s 801ms/step - loss: 0.5767 - accuracy: 0.8127 - val_loss: 0.5826 - val_accuracy: 0.8098\n",
      "Epoch 6/50\n",
      "26/26 [==============================] - 21s 791ms/step - loss: 0.5637 - accuracy: 0.7932 - val_loss: 0.5590 - val_accuracy: 0.8585\n",
      "Epoch 7/50\n",
      "26/26 [==============================] - 20s 777ms/step - loss: 0.5481 - accuracy: 0.8151 - val_loss: 0.5430 - val_accuracy: 0.8585\n",
      "Epoch 8/50\n",
      "26/26 [==============================] - 20s 780ms/step - loss: 0.5328 - accuracy: 0.8273 - val_loss: 0.5266 - val_accuracy: 0.8585\n",
      "Epoch 9/50\n",
      "26/26 [==============================] - 20s 777ms/step - loss: 0.5174 - accuracy: 0.8236 - val_loss: 0.5057 - val_accuracy: 0.8683\n",
      "Epoch 10/50\n",
      "26/26 [==============================] - 20s 770ms/step - loss: 0.5010 - accuracy: 0.8187 - val_loss: 0.4902 - val_accuracy: 0.8780\n",
      "Epoch 11/50\n",
      "26/26 [==============================] - 20s 769ms/step - loss: 0.4832 - accuracy: 0.8248 - val_loss: 0.4868 - val_accuracy: 0.8341\n",
      "Epoch 12/50\n",
      "26/26 [==============================] - 20s 780ms/step - loss: 0.4648 - accuracy: 0.8321 - val_loss: 0.4463 - val_accuracy: 0.8780\n",
      "Epoch 13/50\n",
      "26/26 [==============================] - 20s 762ms/step - loss: 0.4476 - accuracy: 0.8455 - val_loss: 0.4265 - val_accuracy: 0.8732\n",
      "Epoch 14/50\n",
      "26/26 [==============================] - 21s 796ms/step - loss: 0.4356 - accuracy: 0.8321 - val_loss: 0.4165 - val_accuracy: 0.8976\n",
      "Epoch 15/50\n",
      "26/26 [==============================] - 21s 792ms/step - loss: 0.4194 - accuracy: 0.8491 - val_loss: 0.3927 - val_accuracy: 0.8683\n",
      "Epoch 16/50\n",
      "26/26 [==============================] - 21s 796ms/step - loss: 0.4090 - accuracy: 0.8394 - val_loss: 0.3864 - val_accuracy: 0.9122\n",
      "Epoch 17/50\n",
      "26/26 [==============================] - 21s 800ms/step - loss: 0.3917 - accuracy: 0.8491 - val_loss: 0.3618 - val_accuracy: 0.8585\n",
      "Epoch 18/50\n",
      "25/26 [===========================>..] - ETA: 0s - loss: 0.3830 - accuracy: 0.8462\n",
      "Epoch 00018: ReduceLROnPlateau reducing learning rate to 0.001.\n",
      "26/26 [==============================] - 20s 777ms/step - loss: 0.3800 - accuracy: 0.8467 - val_loss: 0.3741 - val_accuracy: 0.8878\n",
      "Epoch 19/50\n",
      "25/26 [===========================>..] - ETA: 0s - loss: 0.3643 - accuracy: 0.8637\n",
      "Epoch 00019: ReduceLROnPlateau reducing learning rate to 0.001.\n",
      "26/26 [==============================] - 20s 779ms/step - loss: 0.3681 - accuracy: 0.8613 - val_loss: 0.3765 - val_accuracy: 0.8829\n",
      "Epoch 20/50\n",
      "26/26 [==============================] - 21s 793ms/step - loss: 0.3591 - accuracy: 0.8650 - val_loss: 0.3327 - val_accuracy: 0.8829\n",
      "Epoch 21/50\n",
      "25/26 [===========================>..] - ETA: 0s - loss: 0.3504 - accuracy: 0.8750\n",
      "Epoch 00021: ReduceLROnPlateau reducing learning rate to 0.001.\n",
      "26/26 [==============================] - 20s 778ms/step - loss: 0.3502 - accuracy: 0.8747 - val_loss: 0.3477 - val_accuracy: 0.9122\n",
      "Epoch 22/50\n",
      "26/26 [==============================] - 20s 780ms/step - loss: 0.3424 - accuracy: 0.8832 - val_loss: 0.3223 - val_accuracy: 0.9073\n",
      "Epoch 23/50\n",
      "26/26 [==============================] - 20s 777ms/step - loss: 0.3368 - accuracy: 0.8796 - val_loss: 0.3210 - val_accuracy: 0.9073\n",
      "Epoch 24/50\n",
      "26/26 [==============================] - 21s 796ms/step - loss: 0.3281 - accuracy: 0.8783 - val_loss: 0.3183 - val_accuracy: 0.9073\n",
      "Epoch 25/50\n",
      "26/26 [==============================] - 20s 777ms/step - loss: 0.3238 - accuracy: 0.8759 - val_loss: 0.2976 - val_accuracy: 0.8878\n",
      "Epoch 26/50\n",
      "25/26 [===========================>..] - ETA: 0s - loss: 0.3199 - accuracy: 0.8850\n",
      "Epoch 00026: ReduceLROnPlateau reducing learning rate to 0.001.\n",
      "26/26 [==============================] - 20s 785ms/step - loss: 0.3182 - accuracy: 0.8820 - val_loss: 0.3195 - val_accuracy: 0.9073\n",
      "Epoch 27/50\n",
      "26/26 [==============================] - 20s 784ms/step - loss: 0.3085 - accuracy: 0.8929 - val_loss: 0.2855 - val_accuracy: 0.8976\n",
      "Epoch 28/50\n",
      "25/26 [===========================>..] - ETA: 0s - loss: 0.3058 - accuracy: 0.8938\n",
      "Epoch 00028: ReduceLROnPlateau reducing learning rate to 0.001.\n",
      "26/26 [==============================] - 20s 781ms/step - loss: 0.3063 - accuracy: 0.8929 - val_loss: 0.2988 - val_accuracy: 0.9171\n",
      "Epoch 29/50\n",
      "26/26 [==============================] - 21s 804ms/step - loss: 0.2993 - accuracy: 0.8954 - val_loss: 0.2731 - val_accuracy: 0.9073\n",
      "Epoch 30/50\n",
      "26/26 [==============================] - 20s 777ms/step - loss: 0.2906 - accuracy: 0.9124 - val_loss: 0.2710 - val_accuracy: 0.9122\n",
      "Epoch 31/50\n",
      "25/26 [===========================>..] - ETA: 0s - loss: 0.2887 - accuracy: 0.9038\n",
      "Epoch 00031: ReduceLROnPlateau reducing learning rate to 0.001.\n",
      "26/26 [==============================] - 20s 784ms/step - loss: 0.2883 - accuracy: 0.9039 - val_loss: 0.2756 - val_accuracy: 0.9220\n",
      "Epoch 32/50\n",
      "26/26 [==============================] - 20s 777ms/step - loss: 0.2769 - accuracy: 0.9173 - val_loss: 0.2542 - val_accuracy: 0.9073\n",
      "Epoch 33/50\n",
      "25/26 [===========================>..] - ETA: 0s - loss: 0.2746 - accuracy: 0.9100\n",
      "Epoch 00033: ReduceLROnPlateau reducing learning rate to 0.001.\n",
      "26/26 [==============================] - 21s 799ms/step - loss: 0.2746 - accuracy: 0.9112 - val_loss: 0.2737 - val_accuracy: 0.9220\n",
      "Epoch 34/50\n",
      "25/26 [===========================>..] - ETA: 0s - loss: 0.2687 - accuracy: 0.9200\n",
      "Epoch 00034: ReduceLROnPlateau reducing learning rate to 0.001.\n",
      "26/26 [==============================] - 20s 774ms/step - loss: 0.2694 - accuracy: 0.9197 - val_loss: 0.2664 - val_accuracy: 0.9171\n",
      "Epoch 35/50\n",
      "25/26 [===========================>..] - ETA: 0s - loss: 0.2577 - accuracy: 0.9388\n",
      "Epoch 00035: ReduceLROnPlateau reducing learning rate to 0.001.\n",
      "26/26 [==============================] - 20s 785ms/step - loss: 0.2578 - accuracy: 0.9380 - val_loss: 0.3170 - val_accuracy: 0.9073\n",
      "Epoch 36/50\n",
      "25/26 [===========================>..] - ETA: 0s - loss: 0.2560 - accuracy: 0.9287\n",
      "Epoch 00036: ReduceLROnPlateau reducing learning rate to 0.001.\n",
      "26/26 [==============================] - 21s 815ms/step - loss: 0.2527 - accuracy: 0.9294 - val_loss: 0.2608 - val_accuracy: 0.9171\n",
      "Epoch 37/50\n",
      "26/26 [==============================] - 21s 803ms/step - loss: 0.2478 - accuracy: 0.9392 - val_loss: 0.2435 - val_accuracy: 0.9220\n",
      "Epoch 38/50\n",
      "26/26 [==============================] - 21s 812ms/step - loss: 0.2391 - accuracy: 0.9319 - val_loss: 0.2305 - val_accuracy: 0.9268\n",
      "Epoch 39/50\n",
      "26/26 [==============================] - 21s 803ms/step - loss: 0.2363 - accuracy: 0.9392 - val_loss: 0.2169 - val_accuracy: 0.9122\n",
      "Epoch 40/50\n",
      "25/26 [===========================>..] - ETA: 0s - loss: 0.2323 - accuracy: 0.9450\n",
      "Epoch 00040: ReduceLROnPlateau reducing learning rate to 0.001.\n",
      "26/26 [==============================] - 21s 819ms/step - loss: 0.2313 - accuracy: 0.9453 - val_loss: 0.2244 - val_accuracy: 0.9220\n",
      "Epoch 41/50\n",
      "25/26 [===========================>..] - ETA: 0s - loss: 0.2230 - accuracy: 0.9488\n",
      "Epoch 00041: ReduceLROnPlateau reducing learning rate to 0.001.\n",
      "26/26 [==============================] - 21s 807ms/step - loss: 0.2237 - accuracy: 0.9501 - val_loss: 0.2306 - val_accuracy: 0.9220\n",
      "Epoch 42/50\n",
      "26/26 [==============================] - 21s 811ms/step - loss: 0.2185 - accuracy: 0.9501 - val_loss: 0.2048 - val_accuracy: 0.9317\n",
      "Epoch 43/50\n",
      "26/26 [==============================] - 21s 824ms/step - loss: 0.2124 - accuracy: 0.9501 - val_loss: 0.1997 - val_accuracy: 0.9415\n",
      "Epoch 44/50\n",
      "25/26 [===========================>..] - ETA: 0s - loss: 0.2047 - accuracy: 0.9575\n",
      "Epoch 00044: ReduceLROnPlateau reducing learning rate to 0.001.\n",
      "26/26 [==============================] - 21s 792ms/step - loss: 0.2064 - accuracy: 0.9562 - val_loss: 0.2005 - val_accuracy: 0.9220\n",
      "Epoch 45/50\n",
      "25/26 [===========================>..] - ETA: 0s - loss: 0.2002 - accuracy: 0.9613\n",
      "Epoch 00045: ReduceLROnPlateau reducing learning rate to 0.001.\n",
      "26/26 [==============================] - 21s 800ms/step - loss: 0.2000 - accuracy: 0.9623 - val_loss: 0.2418 - val_accuracy: 0.9220\n",
      "Epoch 46/50\n",
      "25/26 [===========================>..] - ETA: 0s - loss: 0.2002 - accuracy: 0.9538\n",
      "Epoch 00046: ReduceLROnPlateau reducing learning rate to 0.001.\n",
      "26/26 [==============================] - 21s 804ms/step - loss: 0.1982 - accuracy: 0.9550 - val_loss: 0.2006 - val_accuracy: 0.9220\n",
      "Epoch 47/50\n",
      "26/26 [==============================] - 21s 819ms/step - loss: 0.1901 - accuracy: 0.9635 - val_loss: 0.1866 - val_accuracy: 0.9317\n",
      "Epoch 48/50\n",
      "25/26 [===========================>..] - ETA: 0s - loss: 0.1892 - accuracy: 0.9613\n",
      "Epoch 00048: ReduceLROnPlateau reducing learning rate to 0.001.\n",
      "26/26 [==============================] - 21s 812ms/step - loss: 0.1872 - accuracy: 0.9623 - val_loss: 0.1903 - val_accuracy: 0.9220\n",
      "Epoch 49/50\n",
      "26/26 [==============================] - 21s 793ms/step - loss: 0.1875 - accuracy: 0.9623 - val_loss: 0.1820 - val_accuracy: 0.9317\n",
      "Epoch 50/50\n",
      "25/26 [===========================>..] - ETA: 0s - loss: 0.1798 - accuracy: 0.9613\n",
      "Epoch 00050: ReduceLROnPlateau reducing learning rate to 0.001.\n",
      "26/26 [==============================] - 21s 819ms/step - loss: 0.1788 - accuracy: 0.9623 - val_loss: 0.1962 - val_accuracy: 0.9220\n"
     ]
    },
    {
     "data": {
      "text/plain": [
       "<tensorflow.python.keras.callbacks.History at 0x7fb33feac790>"
      ]
     },
     "execution_count": 20,
     "metadata": {},
     "output_type": "execute_result"
    }
   ],
   "source": [
    "model = build_model(dense_units=256)\n",
    "model.compile(\n",
    "    optimizer='sgd',\n",
    "    loss='sparse_categorical_crossentropy', \n",
    "    metrics=['accuracy'])\n",
    "  \n",
    "model.fit(train_batches, \n",
    "          epochs=50, \n",
    "          validation_data=validation_batches, \n",
    "          callbacks=[ReduceLROnPlateau(monitor='val_loss', \n",
    "                                       factor=0.2, verbose=1,\n",
    "                                       patience=1, min_lr=0.001),\n",
    "                     TensorBoard(log_dir='./log_dir')])"
   ]
  },
  {
   "cell_type": "code",
   "execution_count": 21,
   "metadata": {
    "colab": {},
    "colab_type": "code",
    "id": "isfTWP4NYudk"
   },
   "outputs": [
    {
     "data": {
      "text/plain": [
       "Reusing TensorBoard on port 6007 (pid 4902), started 0:17:12 ago. (Use '!kill 4902' to kill it.)"
      ]
     },
     "metadata": {},
     "output_type": "display_data"
    },
    {
     "data": {
      "text/html": [
       "\n",
       "      <iframe id=\"tensorboard-frame-9f022dc406b97153\" width=\"100%\" height=\"800\" frameborder=\"0\">\n",
       "      </iframe>\n",
       "      <script>\n",
       "        (function() {\n",
       "          const frame = document.getElementById(\"tensorboard-frame-9f022dc406b97153\");\n",
       "          const url = new URL(\"/\", window.location);\n",
       "          url.port = 6007;\n",
       "          frame.src = url;\n",
       "        })();\n",
       "      </script>\n",
       "  "
      ],
      "text/plain": [
       "<IPython.core.display.HTML object>"
      ]
     },
     "metadata": {},
     "output_type": "display_data"
    }
   ],
   "source": [
    "%tensorboard --logdir log_dir"
   ]
  }
 ],
 "metadata": {
  "colab": {
   "collapsed_sections": [],
   "include_colab_link": true,
   "name": "ExploringCallbacks.ipynb",
   "provenance": []
  },
  "kernelspec": {
   "display_name": "Python 3",
   "language": "python",
   "name": "python3"
  },
  "language_info": {
   "codemirror_mode": {
    "name": "ipython",
    "version": 3
   },
   "file_extension": ".py",
   "mimetype": "text/x-python",
   "name": "python",
   "nbconvert_exporter": "python",
   "pygments_lexer": "ipython3",
   "version": "3.7.6"
  }
 },
 "nbformat": 4,
 "nbformat_minor": 4
}
